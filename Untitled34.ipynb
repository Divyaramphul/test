{
  "nbformat": 4,
  "nbformat_minor": 0,
  "metadata": {
    "colab": {
      "name": "Untitled34.ipynb",
      "provenance": [],
      "authorship_tag": "ABX9TyM4SOcxPo8C6cjUJopKcSum",
      "include_colab_link": true
    },
    "kernelspec": {
      "name": "python3",
      "display_name": "Python 3"
    },
    "language_info": {
      "name": "python"
    }
  },
  "cells": [
    {
      "cell_type": "markdown",
      "metadata": {
        "id": "view-in-github",
        "colab_type": "text"
      },
      "source": [
        "<a href=\"https://colab.research.google.com/github/Divyaramphul/test/blob/main/Untitled34.ipynb\" target=\"_parent\"><img src=\"https://colab.research.google.com/assets/colab-badge.svg\" alt=\"Open In Colab\"/></a>"
      ]
    },
    {
      "cell_type": "code",
      "execution_count": 2,
      "metadata": {
        "colab": {
          "base_uri": "https://localhost:8080/"
        },
        "id": "-cukXpBZMFN4",
        "outputId": "945ab398-94a0-4937-f302-c8c73bb333b9"
      },
      "outputs": [
        {
          "output_type": "stream",
          "name": "stdout",
          "text": [
            "I am thinking of a number between 1 and 100.\n",
            "You have {10 - i} guesses left. Take a guess.\n",
            "> 20\n",
            "Your guess is too high.\n",
            "You have {10 - i} guesses left. Take a guess.\n",
            "> 0\n",
            "Your guess is too high.\n",
            "You have {10 - i} guesses left. Take a guess.\n",
            "> 3\n",
            "Your guess is too high.\n",
            "You have {10 - i} guesses left. Take a guess.\n",
            "> 3\n",
            "Your guess is too high.\n",
            "You have {10 - i} guesses left. Take a guess.\n",
            "> 3\n",
            "Your guess is too high.\n",
            "No more guesses. The number I was thinking of was 33\n"
          ]
        }
      ],
      "source": [
        "import random\n",
        "\n",
        "def askForGuess():\n",
        "  while True:\n",
        "    guess = input('> ') \n",
        "\n",
        "    if guess.isdecimal():\n",
        "      return int(guess)\n",
        "    print('Please enter a number between 1 and 100.')\n",
        "\n",
        "secretNumber = random.randint(1, 100)\n",
        "print('I am thinking of a number between 1 and 100.')\n",
        "\n",
        "for i in range(0,10,2):\n",
        "    print('You have {10 - i} guesses left. Take a guess.')\n",
        "\n",
        "    guess = askForGuess()\n",
        "    if guess == secretNumber:\n",
        "        break\n",
        "\n",
        "    if guess < secretNumber:\n",
        "        print('Your guess is too high.')\n",
        "    if guess > secretNumber:\n",
        "        print('Your guess is too low.')\n",
        "\n",
        "if guess == secretNumber:\n",
        "    print('You guessed my number!')\n",
        "else:\n",
        "    print('No more guesses. The number I was thinking of was', secretNumber)\n"
      ]
    }
  ]
}